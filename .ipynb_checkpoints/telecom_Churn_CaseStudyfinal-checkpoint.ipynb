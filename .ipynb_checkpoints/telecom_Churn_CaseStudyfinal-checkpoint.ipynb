{
 "cells": [
  {
   "cell_type": "markdown",
   "id": "6c0c612a",
   "metadata": {},
   "source": [
    "## Buisness Objective \n",
    "The business objective is to predict the churn in the last (i.e. the ninth) month using the data (features) from the first three months."
   ]
  },
  {
   "cell_type": "markdown",
   "id": "ec3d6567",
   "metadata": {},
   "source": [
    "### Approach\n",
    "\n",
    "1. Importing Data and Data preparation\n",
    "- Filtering high value Customers\n",
    "- Dropping features with no variance\n",
    "- Deriving new feature\n",
    "- Labelling Churn status\n",
    "- Missing Value Treatment\n",
    "- Outlier Treatment\n",
    "- Univariate, Bivariate and Multivariate Analysis\n",
    "- Splitting Data into Train test sets\n",
    "- Feature Scaling \n",
    "- Data Imbalance treatment\n",
    "\n",
    "2. Building predictor Model\n",
    "- Build Decision Tree model with best parameters and calculate performance metrics\n",
    "- Build Random Forest Classifier model with best parameters and calculate performance metrics\n",
    "- Build Logistic Regression model with optimum cutoff and calculate performance metrics\n",
    "\n",
    "3. Business Recommendation"
   ]
  },
  {
   "cell_type": "code",
   "execution_count": 1,
   "id": "02287744",
   "metadata": {},
   "outputs": [],
   "source": [
    "import warnings \n",
    "warnings.filterwarnings('ignore')\n",
    "\n",
    "import numpy as np\n",
    "import pandas as pd\n",
    "import matplotlib.pyplot as plt\n",
    "import seaborn as sns\n",
    "%matplotlib inline\n",
    "\n",
    "\n",
    "# Data Preparation\n",
    "from sklearn.model_selection import train_test_split\n",
    "from sklearn.preprocessing import StandardScaler\n",
    "from imblearn.over_sampling import SMOTE\n",
    "from imblearn.over_sampling import ADASYN\n",
    "\n",
    "# Model Building\n",
    "import statsmodels.api as sm\n",
    "from sklearn.linear_model import LogisticRegression\n",
    "from sklearn.feature_selection import RFE\n",
    "from sklearn.model_selection import GridSearchCV\n",
    "from sklearn.tree import DecisionTreeClassifier\n",
    "from sklearn.ensemble import RandomForestClassifier\n",
    "from statsmodels.stats.outliers_influence import variance_inflation_factor\n",
    "\n",
    "# Model Evaluation\n",
    "from sklearn import metrics\n",
    "from sklearn.metrics import confusion_matrix, classification_report\n",
    "from sklearn.metrics import RocCurveDisplay\n"
   ]
  },
  {
   "cell_type": "code",
   "execution_count": 2,
   "id": "05f55830",
   "metadata": {},
   "outputs": [],
   "source": [
    "telecom = pd.read_csv(\"telecom_churn_data.csv\")"
   ]
  },
  {
   "cell_type": "code",
   "execution_count": 3,
   "id": "eab48bef",
   "metadata": {},
   "outputs": [],
   "source": [
    "# Setting mobile_number as index as it is a unique identifier for a customer\n",
    "telecom.set_index('mobile_number', inplace = True)"
   ]
  },
  {
   "cell_type": "code",
   "execution_count": 4,
   "id": "7c6678b8",
   "metadata": {},
   "outputs": [
    {
     "name": "stdout",
     "output_type": "stream",
     "text": [
      "<class 'pandas.core.frame.DataFrame'>\n",
      "Index: 99999 entries, 7000842753 to 7001905007\n",
      "Columns: 225 entries, circle_id to sep_vbc_3g\n",
      "dtypes: float64(179), int64(34), object(12)\n",
      "memory usage: 172.4+ MB\n"
     ]
    }
   ],
   "source": [
    "telecom.info()"
   ]
  },
  {
   "cell_type": "code",
   "execution_count": 5,
   "id": "1692566a",
   "metadata": {},
   "outputs": [],
   "source": [
    "# All the operations will be done on df instead of telecom\n",
    "cust = telecom.copy()"
   ]
  },
  {
   "cell_type": "markdown",
   "id": "8350b08c",
   "metadata": {},
   "source": [
    "### Filtering high value customers"
   ]
  },
  {
   "cell_type": "markdown",
   "id": "faa289a0",
   "metadata": {},
   "source": [
    "Filtering the high value customers for the given dataset. Futher analysis will be done on high value customers only.\n",
    "\n",
    "**High-Value Customers** : Those who have recharged with an amount more than or equal to 70th percentile of the average amount in the first 2 months (the good phase)"
   ]
  },
  {
   "cell_type": "code",
   "execution_count": 6,
   "id": "c0ddd4c2",
   "metadata": {},
   "outputs": [
    {
     "name": "stdout",
     "output_type": "stream",
     "text": [
      "74.84674846748467\n",
      "74.42874428744287\n"
     ]
    }
   ],
   "source": [
    "## av_rech_amt_data_6,av_rech_amt_data_7,av_rech_amt_data_8,av_rech_amt_data_9\n",
    "# checking for missing values in av_rech_amt_data_6 and av_rech_amt_data_7\n",
    "\n",
    "print(cust['av_rech_amt_data_6'].isnull().mean() * 100)\n",
    "print(cust['av_rech_amt_data_7'].isnull().mean() * 100)"
   ]
  },
  {
   "cell_type": "code",
   "execution_count": 7,
   "id": "fcd4f581",
   "metadata": {},
   "outputs": [
    {
     "data": {
      "text/html": [
       "<div>\n",
       "<style scoped>\n",
       "    .dataframe tbody tr th:only-of-type {\n",
       "        vertical-align: middle;\n",
       "    }\n",
       "\n",
       "    .dataframe tbody tr th {\n",
       "        vertical-align: top;\n",
       "    }\n",
       "\n",
       "    .dataframe thead th {\n",
       "        text-align: right;\n",
       "    }\n",
       "</style>\n",
       "<table border=\"1\" class=\"dataframe\">\n",
       "  <thead>\n",
       "    <tr style=\"text-align: right;\">\n",
       "      <th></th>\n",
       "      <th>av_rech_amt_data_6</th>\n",
       "      <th>av_rech_amt_data_7</th>\n",
       "    </tr>\n",
       "  </thead>\n",
       "  <tbody>\n",
       "    <tr>\n",
       "      <th>count</th>\n",
       "      <td>25153.000000</td>\n",
       "      <td>25571.000000</td>\n",
       "    </tr>\n",
       "    <tr>\n",
       "      <th>mean</th>\n",
       "      <td>192.600982</td>\n",
       "      <td>200.981292</td>\n",
       "    </tr>\n",
       "    <tr>\n",
       "      <th>std</th>\n",
       "      <td>192.646318</td>\n",
       "      <td>196.791224</td>\n",
       "    </tr>\n",
       "    <tr>\n",
       "      <th>min</th>\n",
       "      <td>1.000000</td>\n",
       "      <td>0.500000</td>\n",
       "    </tr>\n",
       "    <tr>\n",
       "      <th>25%</th>\n",
       "      <td>82.000000</td>\n",
       "      <td>92.000000</td>\n",
       "    </tr>\n",
       "    <tr>\n",
       "      <th>50%</th>\n",
       "      <td>154.000000</td>\n",
       "      <td>154.000000</td>\n",
       "    </tr>\n",
       "    <tr>\n",
       "      <th>75%</th>\n",
       "      <td>252.000000</td>\n",
       "      <td>252.000000</td>\n",
       "    </tr>\n",
       "    <tr>\n",
       "      <th>max</th>\n",
       "      <td>7546.000000</td>\n",
       "      <td>4365.000000</td>\n",
       "    </tr>\n",
       "  </tbody>\n",
       "</table>\n",
       "</div>"
      ],
      "text/plain": [
       "       av_rech_amt_data_6  av_rech_amt_data_7\n",
       "count        25153.000000        25571.000000\n",
       "mean           192.600982          200.981292\n",
       "std            192.646318          196.791224\n",
       "min              1.000000            0.500000\n",
       "25%             82.000000           92.000000\n",
       "50%            154.000000          154.000000\n",
       "75%            252.000000          252.000000\n",
       "max           7546.000000         4365.000000"
      ]
     },
     "execution_count": 7,
     "metadata": {},
     "output_type": "execute_result"
    }
   ],
   "source": [
    "cust[['av_rech_amt_data_6', 'av_rech_amt_data_7']].describe()"
   ]
  },
  {
   "cell_type": "code",
   "execution_count": 8,
   "id": "943b8a1d",
   "metadata": {},
   "outputs": [],
   "source": [
    "# Filling null values with 0 as customer didnot make a recharge in these months. Hence imputting values in the 2 columns with 0\n",
    "cust['av_rech_amt_data_6'] = cust.av_rech_amt_data_6.fillna(0)\n",
    "cust['av_rech_amt_data_7'] = cust.av_rech_amt_data_7.fillna(0)"
   ]
  },
  {
   "cell_type": "code",
   "execution_count": 9,
   "id": "74235011",
   "metadata": {},
   "outputs": [],
   "source": [
    "# seperate column to get total recharge in the 6 and 7 th month\n",
    "cust['av_rech_amt_data_6_7'] = cust['av_rech_amt_data_6'] + cust['av_rech_amt_data_7'] "
   ]
  },
  {
   "cell_type": "code",
   "execution_count": 10,
   "id": "4feb4b15",
   "metadata": {},
   "outputs": [
    {
     "data": {
      "text/plain": [
       "(30378, 225)"
      ]
     },
     "execution_count": 10,
     "metadata": {},
     "output_type": "execute_result"
    }
   ],
   "source": [
    "# creating seperate datafram for high value customers\n",
    "High_value_customers = cust[cust['av_rech_amt_data_6_7'] >= cust['av_rech_amt_data_6_7'].quantile(.70)]\n",
    "High_value_customers.drop('av_rech_amt_data_6_7', axis=1, inplace=True)\n",
    "High_value_customers.shape"
   ]
  },
  {
   "cell_type": "markdown",
   "id": "2b582efa",
   "metadata": {},
   "source": [
    "**As mentioned,approx 30k records containg high value customers**"
   ]
  },
  {
   "cell_type": "markdown",
   "id": "082902b5",
   "metadata": {},
   "source": [
    "### Dropping Features with no variance"
   ]
  },
  {
   "cell_type": "code",
   "execution_count": 12,
   "id": "e7c2dca7",
   "metadata": {},
   "outputs": [
    {
     "data": {
      "text/html": [
       "<div>\n",
       "<style scoped>\n",
       "    .dataframe tbody tr th:only-of-type {\n",
       "        vertical-align: middle;\n",
       "    }\n",
       "\n",
       "    .dataframe tbody tr th {\n",
       "        vertical-align: top;\n",
       "    }\n",
       "\n",
       "    .dataframe thead th {\n",
       "        text-align: right;\n",
       "    }\n",
       "</style>\n",
       "<table border=\"1\" class=\"dataframe\">\n",
       "  <thead>\n",
       "    <tr style=\"text-align: right;\">\n",
       "      <th></th>\n",
       "      <th>circle_id</th>\n",
       "      <th>loc_og_t2o_mou</th>\n",
       "      <th>std_og_t2o_mou</th>\n",
       "      <th>loc_ic_t2o_mou</th>\n",
       "      <th>last_date_of_month_6</th>\n",
       "      <th>last_date_of_month_7</th>\n",
       "      <th>last_date_of_month_8</th>\n",
       "      <th>last_date_of_month_9</th>\n",
       "      <th>arpu_6</th>\n",
       "      <th>arpu_7</th>\n",
       "      <th>...</th>\n",
       "      <th>sachet_3g_9</th>\n",
       "      <th>fb_user_6</th>\n",
       "      <th>fb_user_7</th>\n",
       "      <th>fb_user_8</th>\n",
       "      <th>fb_user_9</th>\n",
       "      <th>aon</th>\n",
       "      <th>aug_vbc_3g</th>\n",
       "      <th>jul_vbc_3g</th>\n",
       "      <th>jun_vbc_3g</th>\n",
       "      <th>sep_vbc_3g</th>\n",
       "    </tr>\n",
       "    <tr>\n",
       "      <th>mobile_number</th>\n",
       "      <th></th>\n",
       "      <th></th>\n",
       "      <th></th>\n",
       "      <th></th>\n",
       "      <th></th>\n",
       "      <th></th>\n",
       "      <th></th>\n",
       "      <th></th>\n",
       "      <th></th>\n",
       "      <th></th>\n",
       "      <th></th>\n",
       "      <th></th>\n",
       "      <th></th>\n",
       "      <th></th>\n",
       "      <th></th>\n",
       "      <th></th>\n",
       "      <th></th>\n",
       "      <th></th>\n",
       "      <th></th>\n",
       "      <th></th>\n",
       "      <th></th>\n",
       "    </tr>\n",
       "  </thead>\n",
       "  <tbody>\n",
       "    <tr>\n",
       "      <th>7000842753</th>\n",
       "      <td>109</td>\n",
       "      <td>0.0</td>\n",
       "      <td>0.0</td>\n",
       "      <td>0.0</td>\n",
       "      <td>6/30/2014</td>\n",
       "      <td>7/31/2014</td>\n",
       "      <td>8/31/2014</td>\n",
       "      <td>9/30/2014</td>\n",
       "      <td>197.385</td>\n",
       "      <td>214.816</td>\n",
       "      <td>...</td>\n",
       "      <td>0</td>\n",
       "      <td>1.0</td>\n",
       "      <td>1.0</td>\n",
       "      <td>1.0</td>\n",
       "      <td>NaN</td>\n",
       "      <td>968</td>\n",
       "      <td>30.40</td>\n",
       "      <td>0.00</td>\n",
       "      <td>101.20</td>\n",
       "      <td>3.58</td>\n",
       "    </tr>\n",
       "    <tr>\n",
       "      <th>7001865778</th>\n",
       "      <td>109</td>\n",
       "      <td>0.0</td>\n",
       "      <td>0.0</td>\n",
       "      <td>0.0</td>\n",
       "      <td>6/30/2014</td>\n",
       "      <td>7/31/2014</td>\n",
       "      <td>8/31/2014</td>\n",
       "      <td>9/30/2014</td>\n",
       "      <td>34.047</td>\n",
       "      <td>355.074</td>\n",
       "      <td>...</td>\n",
       "      <td>0</td>\n",
       "      <td>NaN</td>\n",
       "      <td>1.0</td>\n",
       "      <td>1.0</td>\n",
       "      <td>NaN</td>\n",
       "      <td>1006</td>\n",
       "      <td>0.00</td>\n",
       "      <td>0.00</td>\n",
       "      <td>0.00</td>\n",
       "      <td>0.00</td>\n",
       "    </tr>\n",
       "    <tr>\n",
       "      <th>7000142493</th>\n",
       "      <td>109</td>\n",
       "      <td>0.0</td>\n",
       "      <td>0.0</td>\n",
       "      <td>0.0</td>\n",
       "      <td>6/30/2014</td>\n",
       "      <td>7/31/2014</td>\n",
       "      <td>8/31/2014</td>\n",
       "      <td>9/30/2014</td>\n",
       "      <td>261.636</td>\n",
       "      <td>309.876</td>\n",
       "      <td>...</td>\n",
       "      <td>0</td>\n",
       "      <td>0.0</td>\n",
       "      <td>NaN</td>\n",
       "      <td>NaN</td>\n",
       "      <td>NaN</td>\n",
       "      <td>1526</td>\n",
       "      <td>0.00</td>\n",
       "      <td>0.00</td>\n",
       "      <td>0.00</td>\n",
       "      <td>0.00</td>\n",
       "    </tr>\n",
       "    <tr>\n",
       "      <th>7001524846</th>\n",
       "      <td>109</td>\n",
       "      <td>0.0</td>\n",
       "      <td>0.0</td>\n",
       "      <td>0.0</td>\n",
       "      <td>6/30/2014</td>\n",
       "      <td>7/31/2014</td>\n",
       "      <td>8/31/2014</td>\n",
       "      <td>9/30/2014</td>\n",
       "      <td>378.721</td>\n",
       "      <td>492.223</td>\n",
       "      <td>...</td>\n",
       "      <td>0</td>\n",
       "      <td>NaN</td>\n",
       "      <td>1.0</td>\n",
       "      <td>1.0</td>\n",
       "      <td>NaN</td>\n",
       "      <td>315</td>\n",
       "      <td>21.03</td>\n",
       "      <td>910.65</td>\n",
       "      <td>122.16</td>\n",
       "      <td>0.00</td>\n",
       "    </tr>\n",
       "    <tr>\n",
       "      <th>7001864400</th>\n",
       "      <td>109</td>\n",
       "      <td>0.0</td>\n",
       "      <td>0.0</td>\n",
       "      <td>0.0</td>\n",
       "      <td>6/30/2014</td>\n",
       "      <td>7/31/2014</td>\n",
       "      <td>8/31/2014</td>\n",
       "      <td>9/30/2014</td>\n",
       "      <td>119.518</td>\n",
       "      <td>247.435</td>\n",
       "      <td>...</td>\n",
       "      <td>0</td>\n",
       "      <td>NaN</td>\n",
       "      <td>1.0</td>\n",
       "      <td>NaN</td>\n",
       "      <td>NaN</td>\n",
       "      <td>902</td>\n",
       "      <td>0.00</td>\n",
       "      <td>0.00</td>\n",
       "      <td>0.00</td>\n",
       "      <td>0.00</td>\n",
       "    </tr>\n",
       "  </tbody>\n",
       "</table>\n",
       "<p>5 rows × 225 columns</p>\n",
       "</div>"
      ],
      "text/plain": [
       "               circle_id  loc_og_t2o_mou  std_og_t2o_mou  loc_ic_t2o_mou  \\\n",
       "mobile_number                                                              \n",
       "7000842753           109             0.0             0.0             0.0   \n",
       "7001865778           109             0.0             0.0             0.0   \n",
       "7000142493           109             0.0             0.0             0.0   \n",
       "7001524846           109             0.0             0.0             0.0   \n",
       "7001864400           109             0.0             0.0             0.0   \n",
       "\n",
       "              last_date_of_month_6 last_date_of_month_7 last_date_of_month_8  \\\n",
       "mobile_number                                                                  \n",
       "7000842753               6/30/2014            7/31/2014            8/31/2014   \n",
       "7001865778               6/30/2014            7/31/2014            8/31/2014   \n",
       "7000142493               6/30/2014            7/31/2014            8/31/2014   \n",
       "7001524846               6/30/2014            7/31/2014            8/31/2014   \n",
       "7001864400               6/30/2014            7/31/2014            8/31/2014   \n",
       "\n",
       "              last_date_of_month_9   arpu_6   arpu_7  ...  sachet_3g_9  \\\n",
       "mobile_number                                         ...                \n",
       "7000842753               9/30/2014  197.385  214.816  ...            0   \n",
       "7001865778               9/30/2014   34.047  355.074  ...            0   \n",
       "7000142493               9/30/2014  261.636  309.876  ...            0   \n",
       "7001524846               9/30/2014  378.721  492.223  ...            0   \n",
       "7001864400               9/30/2014  119.518  247.435  ...            0   \n",
       "\n",
       "               fb_user_6  fb_user_7  fb_user_8  fb_user_9   aon  aug_vbc_3g  \\\n",
       "mobile_number                                                                 \n",
       "7000842753           1.0        1.0        1.0        NaN   968       30.40   \n",
       "7001865778           NaN        1.0        1.0        NaN  1006        0.00   \n",
       "7000142493           0.0        NaN        NaN        NaN  1526        0.00   \n",
       "7001524846           NaN        1.0        1.0        NaN   315       21.03   \n",
       "7001864400           NaN        1.0        NaN        NaN   902        0.00   \n",
       "\n",
       "               jul_vbc_3g  jun_vbc_3g  sep_vbc_3g  \n",
       "mobile_number                                      \n",
       "7000842753           0.00      101.20        3.58  \n",
       "7001865778           0.00        0.00        0.00  \n",
       "7000142493           0.00        0.00        0.00  \n",
       "7001524846         910.65      122.16        0.00  \n",
       "7001864400           0.00        0.00        0.00  \n",
       "\n",
       "[5 rows x 225 columns]"
      ]
     },
     "execution_count": 12,
     "metadata": {},
     "output_type": "execute_result"
    }
   ],
   "source": [
    "High_value_customers.head()"
   ]
  },
  {
   "cell_type": "code",
   "execution_count": 13,
   "id": "d5537470",
   "metadata": {},
   "outputs": [
    {
     "name": "stdout",
     "output_type": "stream",
     "text": [
      "circle_id\n",
      "109    30378\n",
      "Name: count, dtype: int64\n",
      "loc_og_t2o_mou\n",
      "0.0    29965\n",
      "Name: count, dtype: int64\n",
      "std_og_t2o_mou\n",
      "0.0    29965\n",
      "Name: count, dtype: int64\n",
      "loc_ic_t2o_mou\n",
      "0.0    29965\n",
      "Name: count, dtype: int64\n",
      "last_date_of_month_6\n",
      "6/30/2014    30378\n",
      "Name: count, dtype: int64\n",
      "last_date_of_month_7\n",
      "7/31/2014    30319\n",
      "Name: count, dtype: int64\n",
      "last_date_of_month_8\n",
      "8/31/2014    30143\n",
      "Name: count, dtype: int64\n",
      "last_date_of_month_9\n",
      "9/30/2014    29940\n",
      "Name: count, dtype: int64\n",
      "std_og_t2c_mou_6\n",
      "0.0    29312\n",
      "Name: count, dtype: int64\n",
      "std_og_t2c_mou_7\n",
      "0.0    29293\n",
      "Name: count, dtype: int64\n",
      "std_og_t2c_mou_8\n",
      "0.0    28587\n",
      "Name: count, dtype: int64\n",
      "std_og_t2c_mou_9\n",
      "0.0    27886\n",
      "Name: count, dtype: int64\n",
      "std_ic_t2o_mou_6\n",
      "0.0    29312\n",
      "Name: count, dtype: int64\n",
      "std_ic_t2o_mou_7\n",
      "0.0    29293\n",
      "Name: count, dtype: int64\n",
      "std_ic_t2o_mou_8\n",
      "0.0    28587\n",
      "Name: count, dtype: int64\n",
      "std_ic_t2o_mou_9\n",
      "0.0    27886\n",
      "Name: count, dtype: int64\n",
      "['circle_id', 'loc_og_t2o_mou', 'std_og_t2o_mou', 'loc_ic_t2o_mou', 'last_date_of_month_6', 'last_date_of_month_7', 'last_date_of_month_8', 'last_date_of_month_9', 'std_og_t2c_mou_6', 'std_og_t2c_mou_7', 'std_og_t2c_mou_8', 'std_og_t2c_mou_9', 'std_ic_t2o_mou_6', 'std_ic_t2o_mou_7', 'std_ic_t2o_mou_8', 'std_ic_t2o_mou_9']\n",
      "16\n"
     ]
    }
   ],
   "source": [
    "skewed = []\n",
    "for col in High_value_customers.columns:\n",
    "    if len(High_value_customers[col].value_counts()) == 1:\n",
    "        skewed.append(col)\n",
    "        print(High_value_customers[col].value_counts())\n",
    "\n",
    "print(skewed)\n",
    "print(len(skewed))"
   ]
  },
  {
   "cell_type": "code",
   "execution_count": 14,
   "id": "2e16dcf3",
   "metadata": {},
   "outputs": [],
   "source": [
    "High_value_customers.drop(skewed, axis=1, inplace=True)"
   ]
  },
  {
   "cell_type": "markdown",
   "id": "ce2b2593",
   "metadata": {},
   "source": [
    "**Tagging customers as churn or not**\n",
    "Tag churners and remove attributes of the churn phase\n",
    "\n",
    "Now tag the churned customers (churn=1, else 0) based on the fourth month as follows: Those who have not made any calls (either incoming or outgoing) AND have not used mobile internet even once in the churn phase. The attributes you need to use to tag churners are:\n",
    "\n",
    "total_ic_mou_9\n",
    "total_og_mou_9\n",
    "vol_2g_mb_9\n",
    "vol_3g_mb_9"
   ]
  },
  {
   "cell_type": "code",
   "execution_count": null,
   "id": "a2c7eebd",
   "metadata": {},
   "outputs": [],
   "source": []
  },
  {
   "cell_type": "code",
   "execution_count": null,
   "id": "69d6f688",
   "metadata": {},
   "outputs": [],
   "source": []
  },
  {
   "cell_type": "code",
   "execution_count": null,
   "id": "217395c0",
   "metadata": {},
   "outputs": [],
   "source": []
  },
  {
   "cell_type": "code",
   "execution_count": null,
   "id": "08a9fe71",
   "metadata": {},
   "outputs": [],
   "source": []
  },
  {
   "cell_type": "code",
   "execution_count": null,
   "id": "7f01fc64",
   "metadata": {},
   "outputs": [],
   "source": []
  },
  {
   "cell_type": "code",
   "execution_count": null,
   "id": "0ab16a76",
   "metadata": {},
   "outputs": [],
   "source": []
  },
  {
   "cell_type": "code",
   "execution_count": null,
   "id": "c4e37eb4",
   "metadata": {},
   "outputs": [],
   "source": []
  },
  {
   "cell_type": "code",
   "execution_count": null,
   "id": "e7ab4af2",
   "metadata": {},
   "outputs": [],
   "source": []
  },
  {
   "cell_type": "code",
   "execution_count": null,
   "id": "5c73c3d3",
   "metadata": {},
   "outputs": [],
   "source": []
  },
  {
   "cell_type": "code",
   "execution_count": null,
   "id": "3d2dcf30",
   "metadata": {},
   "outputs": [],
   "source": []
  },
  {
   "cell_type": "code",
   "execution_count": null,
   "id": "38e77339",
   "metadata": {},
   "outputs": [],
   "source": []
  },
  {
   "cell_type": "code",
   "execution_count": null,
   "id": "659d0a56",
   "metadata": {},
   "outputs": [],
   "source": []
  },
  {
   "cell_type": "code",
   "execution_count": null,
   "id": "fe0631b2",
   "metadata": {},
   "outputs": [],
   "source": []
  },
  {
   "cell_type": "code",
   "execution_count": null,
   "id": "964c7843",
   "metadata": {},
   "outputs": [],
   "source": []
  },
  {
   "cell_type": "code",
   "execution_count": null,
   "id": "104ae019",
   "metadata": {},
   "outputs": [],
   "source": []
  },
  {
   "cell_type": "code",
   "execution_count": null,
   "id": "c777f2fd",
   "metadata": {},
   "outputs": [],
   "source": []
  },
  {
   "cell_type": "code",
   "execution_count": null,
   "id": "4efb7b5e",
   "metadata": {},
   "outputs": [],
   "source": []
  },
  {
   "cell_type": "code",
   "execution_count": null,
   "id": "e272ec4c",
   "metadata": {},
   "outputs": [],
   "source": []
  },
  {
   "cell_type": "code",
   "execution_count": null,
   "id": "eac833cb",
   "metadata": {},
   "outputs": [],
   "source": []
  },
  {
   "cell_type": "code",
   "execution_count": null,
   "id": "038e1d99",
   "metadata": {},
   "outputs": [],
   "source": []
  },
  {
   "cell_type": "code",
   "execution_count": null,
   "id": "298cb4e8",
   "metadata": {},
   "outputs": [],
   "source": []
  },
  {
   "cell_type": "code",
   "execution_count": null,
   "id": "4da45908",
   "metadata": {},
   "outputs": [],
   "source": []
  }
 ],
 "metadata": {
  "kernelspec": {
   "display_name": "Python 3 (ipykernel)",
   "language": "python",
   "name": "python3"
  },
  "language_info": {
   "codemirror_mode": {
    "name": "ipython",
    "version": 3
   },
   "file_extension": ".py",
   "mimetype": "text/x-python",
   "name": "python",
   "nbconvert_exporter": "python",
   "pygments_lexer": "ipython3",
   "version": "3.11.5"
  }
 },
 "nbformat": 4,
 "nbformat_minor": 5
}
